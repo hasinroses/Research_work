{
 "cells": [
  {
   "cell_type": "markdown",
   "id": "85abe3ad",
   "metadata": {
    "papermill": {
     "duration": 0.00367,
     "end_time": "2023-02-28T05:13:07.844593",
     "exception": false,
     "start_time": "2023-02-28T05:13:07.840923",
     "status": "completed"
    },
    "tags": []
   },
   "source": [
    "# This is a Simple Code in Python for Comparing Classification Report obtain from Different Machine Learning Algorithm  "
   ]
  },
  {
   "cell_type": "code",
   "execution_count": 1,
   "id": "2015b23b",
   "metadata": {
    "execution": {
     "iopub.execute_input": "2023-02-28T05:13:07.852348Z",
     "iopub.status.busy": "2023-02-28T05:13:07.851407Z",
     "iopub.status.idle": "2023-02-28T05:13:08.994972Z",
     "shell.execute_reply": "2023-02-28T05:13:08.993563Z"
    },
    "papermill": {
     "duration": 1.150624,
     "end_time": "2023-02-28T05:13:08.997958",
     "exception": false,
     "start_time": "2023-02-28T05:13:07.847334",
     "status": "completed"
    },
    "tags": []
   },
   "outputs": [],
   "source": [
    "import pandas as pd\n",
    "import matplotlib.pyplot as plt\n",
    "import seaborn as sns"
   ]
  },
  {
   "cell_type": "markdown",
   "id": "a66fba6b",
   "metadata": {
    "papermill": {
     "duration": 0.002259,
     "end_time": "2023-02-28T05:13:09.002928",
     "exception": false,
     "start_time": "2023-02-28T05:13:09.000669",
     "status": "completed"
    },
    "tags": []
   },
   "source": [
    "#Read Data "
   ]
  },
  {
   "cell_type": "code",
   "execution_count": 2,
   "id": "5aebf9fd",
   "metadata": {
    "execution": {
     "iopub.execute_input": "2023-02-28T05:13:09.009811Z",
     "iopub.status.busy": "2023-02-28T05:13:09.009404Z",
     "iopub.status.idle": "2023-02-28T05:13:09.025400Z",
     "shell.execute_reply": "2023-02-28T05:13:09.024445Z"
    },
    "papermill": {
     "duration": 0.022498,
     "end_time": "2023-02-28T05:13:09.027988",
     "exception": false,
     "start_time": "2023-02-28T05:13:09.005490",
     "status": "completed"
    },
    "tags": []
   },
   "outputs": [],
   "source": [
    "df=pd.read_csv(\"/kaggle/input/classification-reports-compare/Classification_report.csv\")"
   ]
  },
  {
   "cell_type": "code",
   "execution_count": 3,
   "id": "fd88cb0a",
   "metadata": {
    "execution": {
     "iopub.execute_input": "2023-02-28T05:13:09.035385Z",
     "iopub.status.busy": "2023-02-28T05:13:09.034669Z",
     "iopub.status.idle": "2023-02-28T05:13:09.063052Z",
     "shell.execute_reply": "2023-02-28T05:13:09.062113Z"
    },
    "papermill": {
     "duration": 0.03514,
     "end_time": "2023-02-28T05:13:09.065820",
     "exception": false,
     "start_time": "2023-02-28T05:13:09.030680",
     "status": "completed"
    },
    "tags": []
   },
   "outputs": [
    {
     "data": {
      "text/html": [
       "<div>\n",
       "<style scoped>\n",
       "    .dataframe tbody tr th:only-of-type {\n",
       "        vertical-align: middle;\n",
       "    }\n",
       "\n",
       "    .dataframe tbody tr th {\n",
       "        vertical-align: top;\n",
       "    }\n",
       "\n",
       "    .dataframe thead th {\n",
       "        text-align: right;\n",
       "    }\n",
       "</style>\n",
       "<table border=\"1\" class=\"dataframe\">\n",
       "  <thead>\n",
       "    <tr style=\"text-align: right;\">\n",
       "      <th></th>\n",
       "      <th>Algorithms</th>\n",
       "      <th>Classification_Criterion</th>\n",
       "      <th>Performance</th>\n",
       "    </tr>\n",
       "  </thead>\n",
       "  <tbody>\n",
       "    <tr>\n",
       "      <th>0</th>\n",
       "      <td>NB</td>\n",
       "      <td>F1 Score</td>\n",
       "      <td>93.0</td>\n",
       "    </tr>\n",
       "    <tr>\n",
       "      <th>1</th>\n",
       "      <td>NB</td>\n",
       "      <td>Precision</td>\n",
       "      <td>93.0</td>\n",
       "    </tr>\n",
       "    <tr>\n",
       "      <th>2</th>\n",
       "      <td>NB</td>\n",
       "      <td>Recall</td>\n",
       "      <td>92.0</td>\n",
       "    </tr>\n",
       "    <tr>\n",
       "      <th>3</th>\n",
       "      <td>LR</td>\n",
       "      <td>F1 Score</td>\n",
       "      <td>86.0</td>\n",
       "    </tr>\n",
       "    <tr>\n",
       "      <th>4</th>\n",
       "      <td>LR</td>\n",
       "      <td>Precision</td>\n",
       "      <td>85.0</td>\n",
       "    </tr>\n",
       "    <tr>\n",
       "      <th>5</th>\n",
       "      <td>LR</td>\n",
       "      <td>Recall</td>\n",
       "      <td>91.0</td>\n",
       "    </tr>\n",
       "    <tr>\n",
       "      <th>6</th>\n",
       "      <td>DT</td>\n",
       "      <td>F1 Score</td>\n",
       "      <td>88.0</td>\n",
       "    </tr>\n",
       "    <tr>\n",
       "      <th>7</th>\n",
       "      <td>DT</td>\n",
       "      <td>Precision</td>\n",
       "      <td>86.0</td>\n",
       "    </tr>\n",
       "    <tr>\n",
       "      <th>8</th>\n",
       "      <td>DT</td>\n",
       "      <td>Recall</td>\n",
       "      <td>85.0</td>\n",
       "    </tr>\n",
       "    <tr>\n",
       "      <th>9</th>\n",
       "      <td>RF</td>\n",
       "      <td>F1 Score</td>\n",
       "      <td>82.0</td>\n",
       "    </tr>\n",
       "    <tr>\n",
       "      <th>10</th>\n",
       "      <td>RF</td>\n",
       "      <td>Precision</td>\n",
       "      <td>70.0</td>\n",
       "    </tr>\n",
       "    <tr>\n",
       "      <th>11</th>\n",
       "      <td>RF</td>\n",
       "      <td>Recall</td>\n",
       "      <td>NaN</td>\n",
       "    </tr>\n",
       "  </tbody>\n",
       "</table>\n",
       "</div>"
      ],
      "text/plain": [
       "   Algorithms Classification_Criterion  Performance\n",
       "0          NB                 F1 Score         93.0\n",
       "1          NB                Precision         93.0\n",
       "2          NB                   Recall         92.0\n",
       "3          LR                 F1 Score         86.0\n",
       "4          LR                Precision         85.0\n",
       "5          LR                   Recall         91.0\n",
       "6          DT                 F1 Score         88.0\n",
       "7          DT                Precision         86.0\n",
       "8          DT                   Recall         85.0\n",
       "9          RF                 F1 Score         82.0\n",
       "10         RF                Precision         70.0\n",
       "11         RF                   Recall          NaN"
      ]
     },
     "execution_count": 3,
     "metadata": {},
     "output_type": "execute_result"
    }
   ],
   "source": [
    "df"
   ]
  },
  {
   "cell_type": "code",
   "execution_count": 4,
   "id": "86ba509b",
   "metadata": {
    "execution": {
     "iopub.execute_input": "2023-02-28T05:13:09.073278Z",
     "iopub.status.busy": "2023-02-28T05:13:09.072827Z",
     "iopub.status.idle": "2023-02-28T05:13:09.534022Z",
     "shell.execute_reply": "2023-02-28T05:13:09.533178Z"
    },
    "papermill": {
     "duration": 0.467804,
     "end_time": "2023-02-28T05:13:09.536511",
     "exception": false,
     "start_time": "2023-02-28T05:13:09.068707",
     "status": "completed"
    },
    "tags": []
   },
   "outputs": [
    {
     "data": {
      "text/plain": [
       "<seaborn.axisgrid.FacetGrid at 0x7f9690caadd0>"
      ]
     },
     "execution_count": 4,
     "metadata": {},
     "output_type": "execute_result"
    },
    {
     "data": {
      "image/png": "[encoded data removed]",
      "text/plain": [
       "<Figure size 670.486x500 with 1 Axes>"
      ]
     },
     "metadata": {},
     "output_type": "display_data"
    }
   ],
   "source": [
    "sns.catplot(x='Algorithms', y='Performance', hue='Classification_Criterion', data=df, kind='bar')"
   ]
  },
  {
   "cell_type": "markdown",
   "id": "5a7664a6",
   "metadata": {
    "papermill": {
     "duration": 0.003021,
     "end_time": "2023-02-28T05:13:09.543111",
     "exception": false,
     "start_time": "2023-02-28T05:13:09.540090",
     "status": "completed"
    },
    "tags": []
   },
   "source": [
    "**NB for Naive Bayes\n",
    "**LR for Logistic Regression\n",
    "**DT for Decision Tree\n",
    "**RF for random Forest"
   ]
  }
 ],
 "metadata": {
  "kernelspec": {
   "display_name": "Python 3",
   "language": "python",
   "name": "python3"
  },
  "language_info": {
   "codemirror_mode": {
    "name": "ipython",
    "version": 3
   },
   "file_extension": ".py",
   "mimetype": "text/x-python",
   "name": "python",
   "nbconvert_exporter": "python",
   "pygments_lexer": "ipython3",
   "version": "3.7.12"
  },
  "papermill": {
   "default_parameters": {},
   "duration": 12.59059,
   "end_time": "2023-02-28T05:13:10.269017",
   "environment_variables": {},
   "exception": null,
   "input_path": "__notebook__.ipynb",
   "output_path": "__notebook__.ipynb",
   "parameters": {},
   "start_time": "2023-02-28T05:12:57.678427",
   "version": "2.4.0"
  }
 },
 "nbformat": 4,
 "nbformat_minor": 5
}
